{
  "nbformat": 4,
  "nbformat_minor": 0,
  "metadata": {
    "colab": {
      "provenance": [],
      "gpuType": "T4"
    },
    "kernelspec": {
      "name": "python3",
      "display_name": "Python 3"
    },
    "language_info": {
      "name": "python"
    },
    "accelerator": "GPU"
  },
  "cells": [
    {
      "cell_type": "code",
      "execution_count": null,
      "metadata": {
        "colab": {
          "base_uri": "https://localhost:8080/"
        },
        "id": "FF83jesb9GpW",
        "outputId": "9e96b382-88a9-4713-e447-4bed076aa4d5"
      },
      "outputs": [
        {
          "output_type": "stream",
          "name": "stdout",
          "text": [
            "\u001b[?25l   \u001b[90m━━━━━━━━━━━━━━━━━━━━━━━━━━━━━━━━━━━━━━━━\u001b[0m \u001b[32m0.0/1.0 MB\u001b[0m \u001b[31m?\u001b[0m eta \u001b[36m-:--:--\u001b[0m\r\u001b[2K   \u001b[91m━━━━━━━━━━━━━━━━━━━━━\u001b[0m\u001b[90m╺\u001b[0m\u001b[90m━━━━━━━━━━━━━━━━━━\u001b[0m \u001b[32m0.6/1.0 MB\u001b[0m \u001b[31m16.8 MB/s\u001b[0m eta \u001b[36m0:00:01\u001b[0m\r\u001b[2K   \u001b[90m━━━━━━━━━━━━━━━━━━━━━━━━━━━━━━━━━━━━━━━━\u001b[0m \u001b[32m1.0/1.0 MB\u001b[0m \u001b[31m18.0 MB/s\u001b[0m eta \u001b[36m0:00:00\u001b[0m\n",
            "\u001b[2K   \u001b[90m━━━━━━━━━━━━━━━━━━━━━━━━━━━━━━━━━━━━━━━━\u001b[0m \u001b[32m181.5/181.5 kB\u001b[0m \u001b[31m16.9 MB/s\u001b[0m eta \u001b[36m0:00:00\u001b[0m\n",
            "\u001b[2K   \u001b[90m━━━━━━━━━━━━━━━━━━━━━━━━━━━━━━━━━━━━━━━━\u001b[0m \u001b[32m363.4/363.4 MB\u001b[0m \u001b[31m4.4 MB/s\u001b[0m eta \u001b[36m0:00:00\u001b[0m\n",
            "\u001b[2K   \u001b[90m━━━━━━━━━━━━━━━━━━━━━━━━━━━━━━━━━━━━━━━━\u001b[0m \u001b[32m13.8/13.8 MB\u001b[0m \u001b[31m75.5 MB/s\u001b[0m eta \u001b[36m0:00:00\u001b[0m\n",
            "\u001b[2K   \u001b[90m━━━━━━━━━━━━━━━━━━━━━━━━━━━━━━━━━━━━━━━━\u001b[0m \u001b[32m24.6/24.6 MB\u001b[0m \u001b[31m64.1 MB/s\u001b[0m eta \u001b[36m0:00:00\u001b[0m\n",
            "\u001b[2K   \u001b[90m━━━━━━━━━━━━━━━━━━━━━━━━━━━━━━━━━━━━━━━━\u001b[0m \u001b[32m883.7/883.7 kB\u001b[0m \u001b[31m43.8 MB/s\u001b[0m eta \u001b[36m0:00:00\u001b[0m\n",
            "\u001b[2K   \u001b[90m━━━━━━━━━━━━━━━━━━━━━━━━━━━━━━━━━━━━━━━━\u001b[0m \u001b[32m664.8/664.8 MB\u001b[0m \u001b[31m2.0 MB/s\u001b[0m eta \u001b[36m0:00:00\u001b[0m\n",
            "\u001b[2K   \u001b[90m━━━━━━━━━━━━━━━━━━━━━━━━━━━━━━━━━━━━━━━━\u001b[0m \u001b[32m211.5/211.5 MB\u001b[0m \u001b[31m5.9 MB/s\u001b[0m eta \u001b[36m0:00:00\u001b[0m\n",
            "\u001b[2K   \u001b[90m━━━━━━━━━━━━━━━━━━━━━━━━━━━━━━━━━━━━━━━━\u001b[0m \u001b[32m56.3/56.3 MB\u001b[0m \u001b[31m12.2 MB/s\u001b[0m eta \u001b[36m0:00:00\u001b[0m\n",
            "\u001b[2K   \u001b[90m━━━━━━━━━━━━━━━━━━━━━━━━━━━━━━━━━━━━━━━━\u001b[0m \u001b[32m127.9/127.9 MB\u001b[0m \u001b[31m7.8 MB/s\u001b[0m eta \u001b[36m0:00:00\u001b[0m\n",
            "\u001b[2K   \u001b[90m━━━━━━━━━━━━━━━━━━━━━━━━━━━━━━━━━━━━━━━━\u001b[0m \u001b[32m207.5/207.5 MB\u001b[0m \u001b[31m6.5 MB/s\u001b[0m eta \u001b[36m0:00:00\u001b[0m\n",
            "\u001b[2K   \u001b[90m━━━━━━━━━━━━━━━━━━━━━━━━━━━━━━━━━━━━━━━━\u001b[0m \u001b[32m21.1/21.1 MB\u001b[0m \u001b[31m67.0 MB/s\u001b[0m eta \u001b[36m0:00:00\u001b[0m\n",
            "\u001b[?25h"
          ]
        }
      ],
      "source": [
        "!pip install ultralytics supervision -q"
      ]
    },
    {
      "cell_type": "code",
      "source": [
        "import os\n",
        "from google.colab import drive\n",
        "from IPython.display import HTML, display\n",
        "from base64 import b64encode\n",
        "# import supervision as sv"
      ],
      "metadata": {
        "id": "dLbygEZY93F7"
      },
      "execution_count": null,
      "outputs": []
    },
    {
      "cell_type": "code",
      "source": [
        "drive.mount('/content/drive', force_remount=True)"
      ],
      "metadata": {
        "colab": {
          "base_uri": "https://localhost:8080/"
        },
        "id": "CPnhp1hi_Hc9",
        "outputId": "a9b1b5df-c70e-47c1-cf04-cfd657125690"
      },
      "execution_count": null,
      "outputs": [
        {
          "output_type": "stream",
          "name": "stdout",
          "text": [
            "Mounted at /content/drive\n"
          ]
        }
      ]
    },
    {
      "cell_type": "code",
      "source": [
        "# Шлях до твого збереженого файлу best.pt на Google Drive\n",
        "PATH_TO_SAVED_MODEL = \"/content/drive/MyDrive/YOLOv8s_MilitaryTransportRecognition/yolov8s_epochs50_batch16_datasetV2_best.pt\"\n",
        "\n",
        "if not os.path.exists(PATH_TO_SAVED_MODEL):\n",
        "    print(f\"ПОМИЛКА: Файл моделі '{PATH_TO_SAVED_MODEL}' не знайдено!\")\n",
        "    raise FileNotFoundError(f\"Файл моделі '{PATH_TO_SAVED_MODEL}' не знайдено!\")\n",
        "else:\n",
        "    print(f\"Використовуємо збережену модель: {PATH_TO_SAVED_MODEL}\")\n",
        "\n",
        "# 2. ВАЖЛИВО: Вкажи шлях до відеофайлу, на якому хочеш протестувати модель\n",
        "PATH_TO_YOUR_VIDEO_FOR_PREDICTION = \"/content/drive/MyDrive/YOLOv8s_MilitaryTransportRecognition/VideoFiles/test_video_1.mp4\"\n",
        "# PATH_TO_YOUR_VIDEO_FOR_PREDICTION = \"/content/назва_твого_відео.mp4\"\n",
        "\n",
        "\n",
        "if not os.path.exists(PATH_TO_YOUR_VIDEO_FOR_PREDICTION):\n",
        "    print(f\"ПОМИЛКА: Відеофайл '{PATH_TO_YOUR_VIDEO_FOR_PREDICTION}' не знайдено!\")\n",
        "    raise FileNotFoundError(f\"Відеофайл '{PATH_TO_YOUR_VIDEO_FOR_PREDICTION}' не знайдено!\")\n",
        "else:\n",
        "    print(f\"Оброблятимемо відео: {PATH_TO_YOUR_VIDEO_FOR_PREDICTION}\")"
      ],
      "metadata": {
        "colab": {
          "base_uri": "https://localhost:8080/"
        },
        "id": "WShslYzU_Ndl",
        "outputId": "1742f93e-c99a-486c-86ca-ade5fc35c348"
      },
      "execution_count": null,
      "outputs": [
        {
          "output_type": "stream",
          "name": "stdout",
          "text": [
            "Використовуємо збережену модель: /content/drive/MyDrive/YOLOv8s_MilitaryTransportRecognition/yolov8s_epochs50_batch16_datasetV2_best.pt\n",
            "Оброблятимемо відео: /content/drive/MyDrive/YOLOv8s_MilitaryTransportRecognition/VideoFiles/test_video_5.MP4\n"
          ]
        }
      ]
    },
    {
      "cell_type": "code",
      "source": [
        "# Параметри розпізнавання\n",
        "CONFIDENCE_THRESHOLD_PREDICT = 0.30\n",
        "IOU_THRESHOLD_PREDICT = 0.5\n",
        "\n",
        "# Назви для збереження результатів цього запуску predict\n",
        "# Ти можеш використовувати назви, що відображають, яка модель та відео використовуються\n",
        "model_filename_prefix_pred = os.path.splitext(os.path.basename(PATH_TO_SAVED_MODEL))[0]\n",
        "video_filename_prefix_pred = os.path.splitext(os.path.basename(PATH_TO_YOUR_VIDEO_FOR_PREDICTION))[0]\n",
        "\n",
        "PREDICT_PROJECT_FOLDER = \"Loaded_Model_Video_Predictions\"\n",
        "PREDICT_RUN_NAME = f\"pred_{video_filename_prefix_pred}_by_{model_filename_prefix_pred}_conf{CONFIDENCE_THRESHOLD_PREDICT}\"\n",
        "\n",
        "print(f\"\\n--- Запуск розпізнавання на відео з завантаженою моделлю ---\")\n",
        "print(f\"Результати будуть збережені в: {PREDICT_PROJECT_FOLDER}/{PREDICT_RUN_NAME}\")\n",
        "\n",
        "!yolo task=detect mode=predict \\\n",
        "      model=\"{PATH_TO_SAVED_MODEL}\" \\\n",
        "      source=\"{PATH_TO_YOUR_VIDEO_FOR_PREDICTION}\" \\\n",
        "      conf={CONFIDENCE_THRESHOLD_PREDICT} \\\n",
        "      iou={IOU_THRESHOLD_PREDICT} \\\n",
        "      save=True \\\n",
        "      project=\"{PREDICT_PROJECT_FOLDER}\" \\\n",
        "      name=\"{PREDICT_RUN_NAME}\" \\\n",
        "      line_thickness=2 \\\n",
        "      exist_ok=True \\\n",
        "      verbose=False # Мінімальний вивід від YOLO\n",
        "\n",
        "print(\"\\nРозпізнавання на відео завершено.\")"
      ],
      "metadata": {
        "colab": {
          "base_uri": "https://localhost:8080/"
        },
        "id": "IB4-jWBR_W_O",
        "outputId": "61efd905-10dd-461a-c5ce-c9b21003df08"
      },
      "execution_count": null,
      "outputs": [
        {
          "output_type": "stream",
          "name": "stdout",
          "text": [
            "\n",
            "--- Запуск розпізнавання на відео з завантаженою моделлю ---\n",
            "Результати будуть збережені в: Loaded_Model_Video_Predictions/pred_test_video_5_by_yolov8s_epochs50_batch16_datasetV2_best_conf0.3\n",
            "Creating new Ultralytics Settings v0.0.6 file ✅ \n",
            "View Ultralytics Settings with 'yolo settings' or at '/root/.config/Ultralytics/settings.json'\n",
            "Update Settings with 'yolo settings key=value', i.e. 'yolo settings runs_dir=path/to/dir'. For help see https://docs.ultralytics.com/quickstart/#ultralytics-settings.\n",
            "WARNING ⚠️ 'line_thickness' is deprecated and will be removed in in the future. Use 'line_width' instead.\n",
            "Ultralytics 8.3.152 🚀 Python-3.11.13 torch-2.6.0+cu124 CUDA:0 (Tesla T4, 15095MiB)\n",
            "Model summary (fused): 72 layers, 11,127,132 parameters, 0 gradients, 28.4 GFLOPs\n",
            "Results saved to \u001b[1mLoaded_Model_Video_Predictions/pred_test_video_5_by_yolov8s_epochs50_batch16_datasetV2_best_conf0.3\u001b[0m\n",
            "💡 Learn more at https://docs.ultralytics.com/modes/predict\n",
            "\n",
            "Розпізнавання на відео завершено.\n"
          ]
        }
      ]
    }
  ]
}